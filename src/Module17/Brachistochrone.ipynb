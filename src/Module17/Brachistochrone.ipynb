{
 "cells": [
  {
   "cell_type": "markdown",
   "id": "8595d32f",
   "metadata": {},
   "source": [
    "# Brachistochrone\n",
    "\n",
    "## Oracle solution\n",
    "\n",
    "True parametric curve\n",
    "\n",
    "$$ \\left\\{\\begin{array}{c}\n",
    "x(\\theta) = R(\\theta - \\sin \\theta)\\\\\n",
    "y(\\theta) = R(1 - \\cos \\theta)\n",
    "\\end{array}\n",
    "\\right. $$"
   ]
  },
  {
   "cell_type": "code",
   "execution_count": 1,
   "id": "b7b3ca2c",
   "metadata": {},
   "outputs": [
    {
     "data": {
      "text/plain": [
       "3.508368768524476"
      ]
     },
     "execution_count": 1,
     "metadata": {},
     "output_type": "execute_result"
    }
   ],
   "source": [
    "from scipy.optimize import newton\n",
    "import numpy as np\n",
    "\n",
    "x2, y2 = 4., 2.\n",
    "def f(theta):\n",
    "    return y2 / x2 - (1 - np.cos(theta)) / (theta - np.sin(theta))\n",
    "newton(f, np.pi / 2)"
   ]
  },
  {
   "cell_type": "code",
   "execution_count": 2,
   "id": "1853cd1d",
   "metadata": {},
   "outputs": [
    {
     "data": {
      "text/plain": [
       "([<matplotlib.lines.Line2D at 0x7f7a322cbbb0>], 1.0343998433730988)"
      ]
     },
     "execution_count": 2,
     "metadata": {},
     "output_type": "execute_result"
    },
    {
     "data": {
      "image/png": "[encoded data removed]",
      "text/plain": [
       "<Figure size 432x288 with 1 Axes>"
      ]
     },
     "metadata": {
      "needs_background": "light"
     },
     "output_type": "display_data"
    }
   ],
   "source": [
    "import matplotlib.pyplot as plt\n",
    "\n",
    "theta2 = 3.508368768524476\n",
    "N = 50\n",
    "R = 2 / (1 - np.cos(theta2))\n",
    "theta = np.linspace(0, theta2, N)\n",
    "x = R * (theta - np.sin(theta))\n",
    "y = R * (1 - np.cos(theta))\n",
    "\n",
    "plt.plot(x, -y), R"
   ]
  },
  {
   "cell_type": "markdown",
   "id": "6a1d8c74",
   "metadata": {},
   "source": [
    "## ODE solver\n",
    "\n",
    "$$ y'^2 = \\frac{2 R}y - 1 $$"
   ]
  },
  {
   "cell_type": "code",
   "execution_count": 3,
   "id": "2509e45f",
   "metadata": {},
   "outputs": [],
   "source": [
    "from scipy.integrate import odeint, solve_ivp\n",
    "from math import sqrt\n",
    "\n",
    "def func(x, y):\n",
    "    return sqrt(2 * r / y - 1)\n",
    "\n",
    "r = 1.0343998433730988\n",
    "bunch = solve_ivp(func, (0.105, 2.9), [0.309], method='RK23')"
   ]
  },
  {
   "cell_type": "code",
   "execution_count": 4,
   "id": "9d289e60",
   "metadata": {},
   "outputs": [
    {
     "data": {
      "text/plain": [
       "[<matplotlib.lines.Line2D at 0x7f7a300892b0>]"
      ]
     },
     "execution_count": 4,
     "metadata": {},
     "output_type": "execute_result"
    },
    {
     "data": {
      "image/png": "[encoded data removed]",
      "text/plain": [
       "<Figure size 432x288 with 1 Axes>"
      ]
     },
     "metadata": {
      "needs_background": "light"
     },
     "output_type": "display_data"
    }
   ],
   "source": [
    "plt.plot(bunch.t, -bunch.y[0])"
   ]
  },
  {
   "cell_type": "markdown",
   "id": "8612aec3",
   "metadata": {},
   "source": [
    "## Backpropagating through the ODE solver"
   ]
  },
  {
   "cell_type": "code",
   "execution_count": 5,
   "id": "b3ecd273",
   "metadata": {},
   "outputs": [],
   "source": [
    "def nn_dynamics(state, time, params):\n",
    "    for r in params:\n",
    "        output = jnp.sqrt(2 * r / state - 1)\n",
    "    return output"
   ]
  },
  {
   "cell_type": "code",
   "execution_count": 6,
   "id": "12374911",
   "metadata": {},
   "outputs": [],
   "source": [
    "import jax.numpy as jnp\n",
    "from jax.experimental.ode import odeint\n",
    "\n",
    "def odenet(params, inp):\n",
    "    start_end_times = jnp.array([0.105, 4])\n",
    "    init_state, final_state = odeint(nn_dynamics, 0.309, start_end_times, params)\n",
    "    return final_state"
   ]
  },
  {
   "cell_type": "code",
   "execution_count": 7,
   "id": "77c2c4f5",
   "metadata": {},
   "outputs": [],
   "source": [
    "from jax import vmap, jit, grad\n",
    "batched_odenet = vmap(odenet, in_axes=(None, 0))\n",
    "\n",
    "step_size = 0.01\n",
    "\n",
    "def odenet_loss(params, inputs, targets):\n",
    "    preds = batched_odenet(params, inputs)\n",
    "    print(preds, targets)\n",
    "    return jnp.mean(jnp.sum((preds - targets) ** 2, axis=1))\n",
    "\n",
    "@jit\n",
    "def odenet_update(params, inputs, targets):\n",
    "    grads = grad(odenet_loss)(params, inputs, targets)\n",
    "    return [(r - step_size * dr) for (r, dr) in zip(params, grads)]"
   ]
  },
  {
   "cell_type": "code",
   "execution_count": 8,
   "id": "ed5041b7",
   "metadata": {},
   "outputs": [],
   "source": [
    "# import numpy.random as npr\n",
    "# odenet_params = [npr.RandomState(0).randn(1)]\n",
    "odenet_params = [2.1]"
   ]
  },
  {
   "cell_type": "code",
   "execution_count": 9,
   "id": "458d0a3f",
   "metadata": {},
   "outputs": [
    {
     "name": "stderr",
     "output_type": "stream",
     "text": [
      "WARNING:absl:No GPU/TPU found, falling back to CPU. (Set TF_CPP_MIN_LOG_LEVEL=0 and rerun for more info.)\n"
     ]
    },
    {
     "name": "stdout",
     "output_type": "stream",
     "text": [
      "Traced<ShapedArray(float32[1])>with<JVPTrace(level=2/1)> with\n",
      "  primal = Traced<ShapedArray(float32[1])>with<DynamicJaxprTrace(level=0/1)>\n",
      "  tangent = Traced<ShapedArray(float32[1])>with<JaxprTrace(level=1/1)> with\n",
      "    pval = (ShapedArray(float32[1]), *)\n",
      "    recipe = JaxprEqnRecipe(eqn_id=<object object at 0x7f7a2469d810>, invars=(Traced<ShapedArray(float32[]):JaxprTrace(level=1/1)>,), outvars=[<weakref at 0x7f7a2058d860; to 'JaxprTracer' at 0x7f7a2058d270>], primitive=broadcast_in_dim, params={'shape': (1,), 'broadcast_dimensions': ()}, source_info=SourceInfo(traceback=<jaxlib.xla_extension.Traceback object at 0x7f7a205890f0>)) Traced<ShapedArray(float32[1,1])>with<DynamicJaxprTrace(level=0/1)>\n",
      "[DeviceArray(2.0592132, dtype=float32)]\n",
      "Traced<ShapedArray(float32[1])>with<JVPTrace(level=2/1)> with\n",
      "  primal = Traced<ShapedArray(float32[1])>with<DynamicJaxprTrace(level=0/1)>\n",
      "  tangent = Traced<ShapedArray(float32[1])>with<JaxprTrace(level=1/1)> with\n",
      "    pval = (ShapedArray(float32[1]), *)\n",
      "    recipe = JaxprEqnRecipe(eqn_id=<object object at 0x7f7a2041deb0>, invars=(Traced<ShapedArray(float32[]):JaxprTrace(level=1/1)>,), outvars=[<weakref at 0x7f7a20395770; to 'JaxprTracer' at 0x7f7a203957c0>], primitive=broadcast_in_dim, params={'shape': (1,), 'broadcast_dimensions': ()}, source_info=SourceInfo(traceback=<jaxlib.xla_extension.Traceback object at 0x7f7a2042ac30>)) Traced<ShapedArray(float32[1,1])>with<DynamicJaxprTrace(level=0/1)>\n",
      "[DeviceArray(2.0187626, dtype=float32)]\n",
      "[DeviceArray(1.9786743, dtype=float32)]\n",
      "[DeviceArray(1.9389757, dtype=float32)]\n",
      "[DeviceArray(1.8996961, dtype=float32)]\n",
      "[DeviceArray(1.8608667, dtype=float32)]\n",
      "[DeviceArray(1.8225206, dtype=float32)]\n",
      "[DeviceArray(1.7846928, dtype=float32)]\n",
      "[DeviceArray(1.7474202, dtype=float32)]\n",
      "[DeviceArray(1.7107419, dtype=float32)]\n",
      "[DeviceArray(1.6746987, dtype=float32)]\n",
      "[DeviceArray(1.6393336, dtype=float32)]\n",
      "[DeviceArray(1.6046914, dtype=float32)]\n",
      "[DeviceArray(1.5708182, dtype=float32)]\n",
      "[DeviceArray(1.5377617, dtype=float32)]\n",
      "[DeviceArray(1.5055708, dtype=float32)]\n",
      "[DeviceArray(1.4742948, dtype=float32)]\n",
      "[DeviceArray(1.4439833, dtype=float32)]\n",
      "[DeviceArray(1.4146854, dtype=float32)]\n",
      "[DeviceArray(1.3864493, dtype=float32)]\n",
      "[DeviceArray(1.3593211, dtype=float32)]\n",
      "[DeviceArray(1.3333439, dtype=float32)]\n",
      "[DeviceArray(1.3085567, dtype=float32)]\n",
      "[DeviceArray(1.2849945, dtype=float32)]\n",
      "[DeviceArray(1.2626846, dtype=float32)]\n"
     ]
    }
   ],
   "source": [
    "train_iters = 25\n",
    "\n",
    "for i in range(train_iters):\n",
    "    odenet_params = odenet_update(odenet_params,\n",
    "                                  np.array([[x2]]), np.array([[y2]]))\n",
    "    print(odenet_params)"
   ]
  },
  {
   "cell_type": "code",
   "execution_count": 10,
   "id": "dfab4616",
   "metadata": {},
   "outputs": [
    {
     "data": {
      "text/plain": [
       "[DeviceArray(1.2626846, dtype=float32)]"
      ]
     },
     "execution_count": 10,
     "metadata": {},
     "output_type": "execute_result"
    }
   ],
   "source": [
    "odenet_params"
   ]
  },
  {
   "cell_type": "code",
   "execution_count": 11,
   "id": "9fa4a46b",
   "metadata": {},
   "outputs": [
    {
     "data": {
      "text/plain": [
       "[<matplotlib.lines.Line2D at 0x7f7a2037a4c0>]"
      ]
     },
     "execution_count": 11,
     "metadata": {},
     "output_type": "execute_result"
    },
    {
     "data": {
      "image/png": "[encoded data removed]",
      "text/plain": [
       "<Figure size 432x288 with 1 Axes>"
      ]
     },
     "metadata": {
      "needs_background": "light"
     },
     "output_type": "display_data"
    }
   ],
   "source": [
    "this_x = np.linspace(0.105, 4, 100)\n",
    "# plt.plot(this_x, -odeint(nn_dynamics, 0.309, this_x, [1.15]))\n",
    "plt.plot(this_x, -odeint(nn_dynamics, 0.309, this_x, odenet_params))"
   ]
  },
  {
   "cell_type": "code",
   "execution_count": 12,
   "id": "5fa4f6a1",
   "metadata": {},
   "outputs": [
    {
     "data": {
      "text/plain": [
       "<matplotlib.legend.Legend at 0x7f7a200ddc10>"
      ]
     },
     "execution_count": 12,
     "metadata": {},
     "output_type": "execute_result"
    },
    {
     "data": {
      "image/png": "[encoded data removed]",
      "text/plain": [
       "<Figure size 432x288 with 1 Axes>"
      ]
     },
     "metadata": {
      "needs_background": "light"
     },
     "output_type": "display_data"
    }
   ],
   "source": [
    "plt.plot(x, -y, label='truth')\n",
    "plt.plot(bunch.t, -bunch.y[0], label='best solver')\n",
    "plt.plot(x, -odeint(nn_dynamics, 0.309, x, odenet_params), label='backprop odenet')\n",
    "plt.legend()"
   ]
  }
 ],
 "metadata": {
  "kernelspec": {
   "display_name": "Python 3 (ipykernel)",
   "language": "python",
   "name": "python3"
  },
  "language_info": {
   "codemirror_mode": {
    "name": "ipython",
    "version": 3
   },
   "file_extension": ".py",
   "mimetype": "text/x-python",
   "name": "python",
   "nbconvert_exporter": "python",
   "pygments_lexer": "ipython3",
   "version": "3.8.10"
  }
 },
 "nbformat": 4,
 "nbformat_minor": 5
}
